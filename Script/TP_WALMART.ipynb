{
 "cells": [
  {
   "cell_type": "markdown",
   "metadata": {},
   "source": [
    "# <font color='blue'>**BIG** **DATA** </font>"
   ]
  },
  {
   "cell_type": "code",
   "execution_count": 37,
   "metadata": {},
   "outputs": [],
   "source": [
    "from pyspark.sql import SparkSession\n",
    "from pyspark.sql import functions as F"
   ]
  },
  {
   "cell_type": "code",
   "execution_count": 38,
   "metadata": {},
   "outputs": [],
   "source": [
    "#1) Instanciation\n",
    "print(\"1) Instanciation\")\n",
    "Spark = SparkSession.builder.master(\"local\").appName(\"FolksDF\").getOrCreate()"
   ]
  },
  {
   "cell_type": "code",
   "execution_count": 39,
   "metadata": {},
   "outputs": [
    {
     "name": "stdout",
     "output_type": "stream",
     "text": [
      "+----------+------------------+------------------+------------------+------------------+--------+------------------+\n",
      "|      Date|              Open|              High|               Low|             Close|  Volume|         Adj Close|\n",
      "+----------+------------------+------------------+------------------+------------------+--------+------------------+\n",
      "|2012-01-03|         59.970001|         61.060001|         59.869999|         60.330002|12668800|52.619234999999996|\n",
      "|2012-01-04|60.209998999999996|         60.349998|         59.470001|59.709998999999996| 9593300|         52.078475|\n",
      "|2012-01-05|         59.349998|         59.619999|         58.369999|         59.419998|12768200|         51.825539|\n",
      "|2012-01-06|         59.419998|         59.450001|         58.869999|              59.0| 8069400|          51.45922|\n",
      "|2012-01-09|         59.029999|         59.549999|         58.919998|             59.18| 6679300|51.616215000000004|\n",
      "|2012-01-10|             59.43|59.709998999999996|             58.98|59.040001000000004| 6907300|         51.494109|\n",
      "|2012-01-11|         59.060001|         59.529999|59.040001000000004|         59.400002| 6365600|         51.808098|\n",
      "|2012-01-12|59.790001000000004|              60.0|         59.400002|              59.5| 7236400|51.895315999999994|\n",
      "|2012-01-13|             59.18|59.610001000000004|59.009997999999996|59.540001000000004| 7729300|51.930203999999996|\n",
      "|2012-01-17|         59.869999|60.110001000000004|             59.52|         59.849998| 8500000|         52.200581|\n",
      "|2012-01-18|59.790001000000004|         60.029999|         59.650002|60.009997999999996| 5911400|         52.340131|\n",
      "|2012-01-19|             59.93|             60.73|             59.75|60.610001000000004| 9234600|         52.863447|\n",
      "|2012-01-20|             60.75|             61.25|         60.669998|61.009997999999996|10378800|53.212320999999996|\n",
      "|2012-01-23|         60.810001|             60.98|60.509997999999996|             60.91| 7134100|         53.125104|\n",
      "|2012-01-24|             60.75|              62.0|             60.75|61.389998999999996| 7362800| 53.54375400000001|\n",
      "|2012-01-25|             61.18|61.610001000000004|61.040001000000004|         61.470001| 5915800| 53.61353100000001|\n",
      "|2012-01-26|         61.799999|             61.84|             60.77|         60.970001| 7436200|         53.177436|\n",
      "|2012-01-27|60.860001000000004|         61.119999|60.540001000000004|60.709998999999996| 6287300|         52.950665|\n",
      "|2012-01-30|         60.470001|             61.32|         60.349998|         61.299999| 7636900|53.465256999999994|\n",
      "|2012-01-31|         61.529999|             61.57|         60.580002|61.360001000000004| 9761500|53.517590000000006|\n",
      "+----------+------------------+------------------+------------------+------------------+--------+------------------+\n",
      "only showing top 20 rows\n",
      "\n"
     ]
    }
   ],
   "source": [
    "#2)\n",
    "#Importation \n",
    "print(\"2) Importation \")\n",
    "Walmart = Spark.read.option(\"header\",'true').option(\"delimiter\",\",\").csv(\"data/walmart_stock.csv\")\n",
    "Walmart.show()"
   ]
  },
  {
   "cell_type": "code",
   "execution_count": 40,
   "metadata": {},
   "outputs": [
    {
     "data": {
      "text/plain": [
       "['Date', 'Open', 'High', 'Low', 'Close', 'Volume', 'Adj Close']"
      ]
     },
     "execution_count": 40,
     "metadata": {},
     "output_type": "execute_result"
    }
   ],
   "source": [
    "#3)\n",
    "print(\"3) Les colonnes du dataframe \")\n",
    "Walmart.columns"
   ]
  },
  {
   "cell_type": "code",
   "execution_count": 41,
   "metadata": {},
   "outputs": [
    {
     "name": "stdout",
     "output_type": "stream",
     "text": [
      "root\n",
      " |-- Date: string (nullable = true)\n",
      " |-- Open: string (nullable = true)\n",
      " |-- High: string (nullable = true)\n",
      " |-- Low: string (nullable = true)\n",
      " |-- Close: string (nullable = true)\n",
      " |-- Volume: string (nullable = true)\n",
      " |-- Adj Close: string (nullable = true)\n",
      "\n"
     ]
    }
   ],
   "source": [
    "#4) Le schema \n",
    "print(\"4) Le schema\")\n",
    "Walmart.printSchema()\n",
    "#nullable =true : autorise les valeurs nulles"
   ]
  },
  {
   "cell_type": "code",
   "execution_count": 42,
   "metadata": {},
   "outputs": [
    {
     "name": "stdout",
     "output_type": "stream",
     "text": [
      "+----------+------------------+---------+---------+------------------+--------+------------------+--------------------+\n",
      "|      Date|              Open|     High|      Low|             Close|  Volume|         Adj Close|            HV_Ratio|\n",
      "+----------+------------------+---------+---------+------------------+--------+------------------+--------------------+\n",
      "|2012-01-03|         59.970001|61.060001|59.869999|         60.330002|12668800|52.619234999999996|4.819714653321546E-6|\n",
      "|2012-01-04|60.209998999999996|60.349998|59.470001|59.709998999999996| 9593300|         52.078475|6.290848613094555E-6|\n",
      "|2012-01-05|         59.349998|59.619999|58.369999|         59.419998|12768200|         51.825539|4.669412994783916E-6|\n",
      "|2012-01-06|         59.419998|59.450001|58.869999|              59.0| 8069400|          51.45922|7.367338463826307E-6|\n",
      "+----------+------------------+---------+---------+------------------+--------+------------------+--------------------+\n",
      "only showing top 4 rows\n",
      "\n"
     ]
    }
   ],
   "source": [
    "#5)\n",
    "print(\"5) Création d'un nouveau dataframe avec HV_Ratio le rapport de High sur Volume \")\n",
    "Walmart2 = Walmart.withColumn('HV_Ratio',F.col('High')/F.col('Volume')) #Preciser que ce sont des colonnes sinon spark comprend pas\n",
    "Walmart2.head()#La premiere ligne\n",
    "Walmart2.show(4)#les 4 premieres lignes"
   ]
  },
  {
   "cell_type": "code",
   "execution_count": 43,
   "metadata": {},
   "outputs": [],
   "source": [
    "#6)\n",
    "\n",
    "Walmart2.createOrReplaceTempView(\"WalmartSQL\") #Transformation du data frame en table !!!!"
   ]
  },
  {
   "cell_type": "code",
   "execution_count": 44,
   "metadata": {},
   "outputs": [
    {
     "data": {
      "text/plain": [
       "Row(Date='2015-01-13')"
      ]
     },
     "execution_count": 44,
     "metadata": {},
     "output_type": "execute_result"
    }
   ],
   "source": [
    "#SOLUTION 1\n",
    "#SQL\n",
    "print(\"6) Le prix est le plus élevé ce jour\")\n",
    "Spark.sql(\"SELECT Date FROM WalmartSQL ORDER BY High desc\").first()#Montre la premiere data apres avoir trié \n"
   ]
  },
  {
   "cell_type": "code",
   "execution_count": 45,
   "metadata": {},
   "outputs": [
    {
     "name": "stdout",
     "output_type": "stream",
     "text": [
      "+----------+\n",
      "|      Date|\n",
      "+----------+\n",
      "|2015-01-13|\n",
      "+----------+\n",
      "\n"
     ]
    }
   ],
   "source": [
    "#Solution 2\n",
    "Spark.sql(\"SELECT Date from WalmartSQL ORDER BY High Desc limit 1\").show()"
   ]
  },
  {
   "cell_type": "code",
   "execution_count": 46,
   "metadata": {},
   "outputs": [
    {
     "data": {
      "text/plain": [
       "Row(Date='2015-01-13')"
      ]
     },
     "execution_count": 46,
     "metadata": {},
     "output_type": "execute_result"
    }
   ],
   "source": [
    "#DSL\n",
    "Walmart2.orderBy(F.col(\"High\").desc()).select(F.col(\"Date\")).head()"
   ]
  },
  {
   "cell_type": "code",
   "execution_count": 47,
   "metadata": {},
   "outputs": [
    {
     "data": {
      "text/plain": [
       "Row(Date='2015-01-13')"
      ]
     },
     "execution_count": 47,
     "metadata": {},
     "output_type": "execute_result"
    }
   ],
   "source": [
    "Walmart2.select(F.col(\"Date\")).orderBy(F.col(\"High\").desc()).head()#Il n'y a pas d'ordre en fait"
   ]
  },
  {
   "cell_type": "code",
   "execution_count": 48,
   "metadata": {},
   "outputs": [
    {
     "data": {
      "text/plain": [
       "Row(Date='2015-01-13')"
      ]
     },
     "execution_count": 48,
     "metadata": {},
     "output_type": "execute_result"
    }
   ],
   "source": [
    "#On prefere ecrire comme ceci\n",
    "Walmart2.select(F.col(\"Date\")) \\\n",
    "        .orderBy(F.col(\"High\") \\\n",
    "        .desc()) \\\n",
    "        .head()"
   ]
  },
  {
   "cell_type": "code",
   "execution_count": 49,
   "metadata": {},
   "outputs": [
    {
     "name": "stdout",
     "output_type": "stream",
     "text": [
      "+-----------------+\n",
      "|    Moyenne_Close|\n",
      "+-----------------+\n",
      "|72.38844998012726|\n",
      "+-----------------+\n",
      "\n"
     ]
    }
   ],
   "source": [
    "#7 la moyenne de close en sql et dsl\n",
    "#SQL\n",
    "print(\"7) Voici la moyenne de la colonne Close\")\n",
    "Spark.sql(\"Select mean(Close) as Moyenne_Close from WalmartSQL\").show()"
   ]
  },
  {
   "cell_type": "code",
   "execution_count": 50,
   "metadata": {},
   "outputs": [
    {
     "name": "stdout",
     "output_type": "stream",
     "text": [
      "+-------+-----------------+\n",
      "|summary|            Close|\n",
      "+-------+-----------------+\n",
      "|   mean|72.38844998012726|\n",
      "+-------+-----------------+\n",
      "\n"
     ]
    }
   ],
   "source": [
    "#DSL\n",
    "#Solution 1\n",
    "Walmart2.select(F.col(\"Close\"))\\\n",
    "        .summary(\"mean\") \\\n",
    "        .show()"
   ]
  },
  {
   "cell_type": "code",
   "execution_count": 51,
   "metadata": {},
   "outputs": [
    {
     "name": "stdout",
     "output_type": "stream",
     "text": [
      "+-----------------+\n",
      "|    Moyenne_Close|\n",
      "+-----------------+\n",
      "|72.38844998012726|\n",
      "+-----------------+\n",
      "\n"
     ]
    }
   ],
   "source": [
    "#Solution 2\n",
    "Walmart2.agg(F.mean(\"Close\")\\\n",
    "        .alias(\"Moyenne_Close\"))\\\n",
    "        .show()"
   ]
  },
  {
   "cell_type": "code",
   "execution_count": 69,
   "metadata": {},
   "outputs": [
    {
     "name": "stdout",
     "output_type": "stream",
     "text": [
      "+--------+-------+\n",
      "| Min_Vol|Max_Vol|\n",
      "+--------+-------+\n",
      "|10010500|9994400|\n",
      "+--------+-------+\n",
      "\n"
     ]
    }
   ],
   "source": [
    "#8\n",
    "print(\"8) Voici le minimum et maximum de la colonne Volume\")\n",
    "#SQL\n",
    "Spark.sql(\"Select min(Volume) as Min_Vol ,max(Volume) as Max_Vol from WalmartSQL\").show()"
   ]
  },
  {
   "cell_type": "code",
   "execution_count": 53,
   "metadata": {},
   "outputs": [
    {
     "name": "stdout",
     "output_type": "stream",
     "text": [
      "+-------+--------+\n",
      "|summary|  Volume|\n",
      "+-------+--------+\n",
      "|    min|10010500|\n",
      "|    max| 9994400|\n",
      "+-------+--------+\n",
      "\n"
     ]
    }
   ],
   "source": [
    "#DSL\n",
    "#Solution 1\n",
    "Walmart2.select(F.col(\"Volume\"))\\\n",
    "        .summary(\"min\",\"max\") \\\n",
    "        .show()"
   ]
  },
  {
   "cell_type": "code",
   "execution_count": 54,
   "metadata": {},
   "outputs": [
    {
     "name": "stdout",
     "output_type": "stream",
     "text": [
      "+-----------+-----------+\n",
      "|max(Volume)|min(Volume)|\n",
      "+-----------+-----------+\n",
      "|    9994400|   10010500|\n",
      "+-----------+-----------+\n",
      "\n"
     ]
    }
   ],
   "source": [
    "#Solution 1\n",
    "Walmart2.select(F.max(\"Volume\"),F.min(\"Volume\"))\\\n",
    "        .show()"
   ]
  },
  {
   "cell_type": "code",
   "execution_count": 55,
   "metadata": {},
   "outputs": [
    {
     "name": "stdout",
     "output_type": "stream",
     "text": [
      "+-----------+\n",
      "|count(Date)|\n",
      "+-----------+\n",
      "|         81|\n",
      "+-----------+\n",
      "\n"
     ]
    }
   ],
   "source": [
    "#9\n",
    "print(\"9) Voici le nombre de jour au Close est sous le seuil de 60$\")\n",
    "#SQL\n",
    "Spark.sql(\"Select count(Date) from WalmartSQL  where Close < '60' \").show() #'60' pas obligé sur cette version mias preferable"
   ]
  },
  {
   "cell_type": "code",
   "execution_count": 56,
   "metadata": {},
   "outputs": [
    {
     "name": "stdout",
     "output_type": "stream",
     "text": [
      "+-----------+\n",
      "|count(Date)|\n",
      "+-----------+\n",
      "|         81|\n",
      "+-----------+\n",
      "\n"
     ]
    }
   ],
   "source": [
    "#DSL\n",
    "#Solution 1\n",
    "Walmart2.filter(F.col(\"Close\") < '60') \\\n",
    "        .agg(F.count(\"Date\"))\\\n",
    "        .show()"
   ]
  },
  {
   "cell_type": "code",
   "execution_count": 57,
   "metadata": {},
   "outputs": [
    {
     "data": {
      "text/plain": [
       "81"
      ]
     },
     "execution_count": 57,
     "metadata": {},
     "output_type": "execute_result"
    }
   ],
   "source": [
    "#Solution 2\n",
    "Walmart2.filter(F.col(\"Close\") < '60') \\\n",
    "        .count()"
   ]
  },
  {
   "cell_type": "code",
   "execution_count": 58,
   "metadata": {},
   "outputs": [
    {
     "name": "stdout",
     "output_type": "stream",
     "text": [
      "+----------+\n",
      "|Percentage|\n",
      "+----------+\n",
      "|      9.14|\n",
      "+----------+\n",
      "\n"
     ]
    }
   ],
   "source": [
    "#10 What percentage of the time was the High greater than 80 dollars ?(In other words, (Number of Days High>80)/(Total Days in the dataset))\n",
    "#SQL\n",
    "print(\"10) Voici le nombre de jours en pourcentage durant lesquels High est superieur au seuil de 80$\")\n",
    "Spark.sql(\"select round((select count(*) from WalmartSQL where High > '80')/(count(*))* 100, 2) as Percentage from WalmartSQL\").show()"
   ]
  },
  {
   "cell_type": "code",
   "execution_count": 59,
   "metadata": {},
   "outputs": [
    {
     "name": "stdout",
     "output_type": "stream",
     "text": [
      "+--------+\n",
      "|Comptage|\n",
      "+--------+\n",
      "|    9.14|\n",
      "+--------+\n",
      "\n"
     ]
    }
   ],
   "source": [
    "#DSL \n",
    "Temp = Walmart2.filter(F.col(\"High\")> '80')\\\n",
    "        .agg(F.count(\"*\").alias(\"Comptage\")) \\\n",
    "        .collect()[0][0]\n",
    "\n",
    "Walmart2.agg(F.round((Temp/F.count(\"*\")*100),2).alias(\"Comptage\"))\\\n",
    "        .show()"
   ]
  },
  {
   "cell_type": "code",
   "execution_count": 60,
   "metadata": {},
   "outputs": [
    {
     "name": "stdout",
     "output_type": "stream",
     "text": [
      "+---------+-----+\n",
      "|max(High)|Annee|\n",
      "+---------+-----+\n",
      "|75.190002| 2016|\n",
      "|77.599998| 2012|\n",
      "|88.089996| 2014|\n",
      "|81.370003| 2013|\n",
      "|90.970001| 2015|\n",
      "+---------+-----+\n",
      "\n"
     ]
    }
   ],
   "source": [
    "#11-What is the max High per year?\n",
    "#SQL\n",
    "print(\"11) Voici le maximum de la variable High par an\")\n",
    "Spark.sql(\"select max(High),SUBSTR(Date, 1, 4) as Annee from WalmartSQL group by Annee\").show()\n"
   ]
  },
  {
   "cell_type": "code",
   "execution_count": 70,
   "metadata": {},
   "outputs": [
    {
     "name": "stdout",
     "output_type": "stream",
     "text": [
      "+----------+-----+\n",
      "|      Date|Annee|\n",
      "+----------+-----+\n",
      "|2012-01-03| 2012|\n",
      "|2012-01-04| 2012|\n",
      "|2012-01-05| 2012|\n",
      "|2012-01-06| 2012|\n",
      "|2012-01-09| 2012|\n",
      "+----------+-----+\n",
      "only showing top 5 rows\n",
      "\n",
      "+-----+---------+\n",
      "|Annee|max(High)|\n",
      "+-----+---------+\n",
      "| 2016|75.190002|\n",
      "| 2012|77.599998|\n",
      "| 2014|88.089996|\n",
      "| 2013|81.370003|\n",
      "| 2015|90.970001|\n",
      "+-----+---------+\n",
      "\n"
     ]
    }
   ],
   "source": [
    "# DSL \n",
    "\n",
    "#Partie 1 : Crée une nouvelle colonne Annee qui extrait l'année depuis la date\n",
    "Walmart3 = Walmart2.withColumn(\"Annee\",F.substring(\"Date\",1,4))\n",
    "Walmart3.select(\"Date\",\"Annee\").show(5)#On fait pas le show direct lorsque qu'on crée un dataframe mais apres\n",
    "#Partie 2 :  Retrouver le maximum du prix pour chaque année\n",
    "Walmart3.groupBy(F.col(\"Annee\")) \\\n",
    "        .agg(F.max(\"High\")) \\\n",
    "        .show()"
   ]
  },
  {
   "cell_type": "code",
   "execution_count": 62,
   "metadata": {},
   "outputs": [
    {
     "name": "stdout",
     "output_type": "stream",
     "text": [
      "+-----+----+------------------+\n",
      "|Annee|Mois|         Moy_Close|\n",
      "+-----+----+------------------+\n",
      "| 2012|  01|        60.2354999|\n",
      "| 2012|  02|            60.898|\n",
      "| 2012|  03|60.433636818181796|\n",
      "| 2012|  04|60.149000150000006|\n",
      "| 2012|  05|61.456363409090905|\n",
      "| 2012|  06| 67.50380961904762|\n",
      "| 2012|  07| 72.40666661904763|\n",
      "| 2012|  08| 73.04478265217392|\n",
      "| 2012|  09| 74.18157921052631|\n",
      "| 2012|  10| 75.30619061904761|\n",
      "| 2012|  11| 71.10952333333333|\n",
      "| 2012|  12| 69.71100009999999|\n",
      "| 2013|  01| 69.09476142857143|\n",
      "| 2013|  02| 70.62315857894738|\n",
      "| 2013|  03| 73.43649940000002|\n",
      "| 2013|  04| 77.68954572727273|\n",
      "| 2013|  05| 77.81636368181817|\n",
      "| 2013|  06| 74.97800020000001|\n",
      "| 2013|  07| 77.11545418181818|\n",
      "| 2013|  08| 75.22409204545455|\n",
      "+-----+----+------------------+\n",
      "only showing top 20 rows\n",
      "\n"
     ]
    }
   ],
   "source": [
    "#What is the average Close for each Calendar Month? In other words, across all the years, what is the average Close price for Jan,Feb, Mar, etc... Your result will have a value for each of these months.\n",
    "print(\"12) Voici la moyenne de Close pour chaque mois de chaque annee\")\n",
    "Spark.sql(\"select SUBSTR(Date, 1, 4) as Annee, SUBSTR(Date, 6, 2) as Mois, mean(Close) as Moy_Close from WalmartSQL group by Annee , Mois order by Annee, Mois\").show()"
   ]
  },
  {
   "cell_type": "code",
   "execution_count": 75,
   "metadata": {},
   "outputs": [
    {
     "name": "stdout",
     "output_type": "stream",
     "text": [
      "+-----+----+------------------+\n",
      "|Annee|Mois|         Moy_Close|\n",
      "+-----+----+------------------+\n",
      "| 2012|  01|        60.2354999|\n",
      "| 2012|  02|            60.898|\n",
      "| 2012|  03|60.433636818181796|\n",
      "| 2012|  04|60.149000150000006|\n",
      "| 2012|  05|61.456363409090905|\n",
      "| 2012|  06| 67.50380961904762|\n",
      "| 2012|  07| 72.40666661904763|\n",
      "| 2012|  08| 73.04478265217392|\n",
      "| 2012|  09| 74.18157921052631|\n",
      "| 2012|  10| 75.30619061904761|\n",
      "| 2012|  11| 71.10952333333333|\n",
      "| 2012|  12| 69.71100009999999|\n",
      "| 2013|  01| 69.09476142857143|\n",
      "| 2013|  02| 70.62315857894738|\n",
      "| 2013|  03| 73.43649940000002|\n",
      "| 2013|  04| 77.68954572727273|\n",
      "| 2013|  05| 77.81636368181817|\n",
      "| 2013|  06| 74.97800020000001|\n",
      "| 2013|  07| 77.11545418181818|\n",
      "| 2013|  08| 75.22409204545455|\n",
      "+-----+----+------------------+\n",
      "only showing top 20 rows\n",
      "\n"
     ]
    }
   ],
   "source": [
    "#Partie 1 : Crée une nouvelle colonne Annee qui extrait l'année depuis la date\n",
    "Walmart3 = Walmart2.withColumn(\"Annee\",F.substring(\"Date\",1,4)).withColumn(\"Mois\",F.substring(\"Date\",6,2))\n",
    "\n",
    "\n",
    "\n",
    "#Partie 2 :  Retrouver la moyenne de close pour chaque mois de chaque annee\n",
    "Walmart3.orderBy(F.col(\"Annee\"),F.col(\"Mois\")) \\\n",
    "        .groupBy(F.col(\"Annee\"),F.col(\"Mois\")) \\\n",
    "        .agg(F.mean(\"Close\").alias(\"Moy_Close\")) \\\n",
    "        .show()\n",
    "\n"
   ]
  },
  {
   "cell_type": "code",
   "execution_count": null,
   "metadata": {},
   "outputs": [],
   "source": []
  }
 ],
 "metadata": {
  "kernelspec": {
   "display_name": "Python 3",
   "language": "python",
   "name": "python3"
  },
  "language_info": {
   "codemirror_mode": {
    "name": "ipython",
    "version": 3
   },
   "file_extension": ".py",
   "mimetype": "text/x-python",
   "name": "python",
   "nbconvert_exporter": "python",
   "pygments_lexer": "ipython3",
   "version": "3.8.5"
  }
 },
 "nbformat": 4,
 "nbformat_minor": 4
}
